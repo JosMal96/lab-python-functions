{
 "cells": [
  {
   "cell_type": "markdown",
   "id": "25d7736c-ba17-4aff-b6bb-66eba20fbf4e",
   "metadata": {},
   "source": [
    "# Lab | Functions"
   ]
  },
  {
   "cell_type": "markdown",
   "id": "228208fc-f779-401f-a635-25b68ff327d0",
   "metadata": {
    "tags": []
   },
   "source": [
    "## Exercise: Managing Customer Orders with Functions\n",
    "\n",
    "In the previous exercise, you improved the code for managing customer orders by using loops and flow control. Now, let's take it a step further and refactor the code by introducing functions.\n",
    "\n",
    "Follow the steps below to complete the exercise:\n",
    "\n",
    "1. Define a function named `initialize_inventory` that takes `products` as a parameter. Inside the function, implement the code for initializing the inventory dictionary using a loop and user input.\n",
    "\n",
    "2. Define a function named `get_customer_orders` that takes no parameters. Inside the function, implement the code for prompting the user to enter the product names using a loop. The function should return the `customer_orders` set.\n",
    "\n",
    "3. Define a function named `update_inventory` that takes `customer_orders` and `inventory` as parameters. Inside the function, implement the code for updating the inventory dictionary based on the customer orders.\n",
    "\n",
    "4. Define a function named `calculate_order_statistics` that takes `customer_orders` and `products` as parameters. Inside the function, implement the code for calculating the order statistics (total products ordered, and percentage of unique products ordered). The function should return these values.\n",
    "\n",
    "5. Define a function named `print_order_statistics` that takes `order_statistics` as a parameter. Inside the function, implement the code for printing the order statistics.\n",
    "\n",
    "6. Define a function named `print_updated_inventory` that takes `inventory` as a parameter. Inside the function, implement the code for printing the updated inventory.\n",
    "\n",
    "7. Call the functions in the appropriate sequence to execute the program and manage customer orders.\n",
    "\n",
    "Hints for functions:\n",
    "\n",
    "- Consider the input parameters required for each function and their return values.\n",
    "- Utilize function parameters and return values to transfer data between functions.\n",
    "- Test your functions individually to ensure they work correctly.\n",
    "\n",
    "\n"
   ]
  },
  {
   "cell_type": "code",
   "execution_count": null,
   "id": "be7557b7-0b13-44df-85e3-458eb827f091",
   "metadata": {},
   "outputs": [],
   "source": [
    "#Managing Customer Orders with Functions"
   ]
  },
  {
   "cell_type": "code",
   "execution_count": 1,
   "id": "7397454f-259c-4e7c-8297-10bb76d9521a",
   "metadata": {},
   "outputs": [],
   "source": [
    "# Define a function named initialize_inventory that takes products as a parameter. \n",
    "# Inside the function, implement the code for initializing the inventory dictionary using a loop and user input.\n",
    "customer_orders = set()\n",
    "\n",
    "products = [\"t-shirt\", \"mug\", \"hat\", \"book\", \"keychain\"]\n",
    "\n",
    "def initialize_inventory(products):\n",
    "    inventory = {}\n",
    "    \n",
    "    for product in products:\n",
    "        quantityProduct = int(input(f\"Enter the available {product} for each product\"))\n",
    "        inventory[product] = quantityProduct\n",
    "        \n",
    "    return inventory"
   ]
  },
  {
   "cell_type": "code",
   "execution_count": 2,
   "id": "a44cd5d0-9106-4fc9-b57f-ef7d6195bbf5",
   "metadata": {},
   "outputs": [],
   "source": [
    "def get_customer_orders():\n",
    "    name_product = input(\"Please enter the names of the products you want, type t-shirt, mug, hat, book, keychain: \")\n",
    "    \n",
    "    customer_orders.add(name_product)\n",
    "    \n",
    "    prompt = input(\"You add some products, do you want more? yes or no?\")\n",
    "    \n",
    "    #Ask the user if they want to add another product (yes/no).\n",
    "    #Continue the loop until the user does not want to add another product.\n",
    "    while prompt == \"yes\":\n",
    "        name_product = input(\"Please enter the names of the products you want, type t-shirt, mug, hat, book, keychain: \")\n",
    "        customer_orders.add(name_product)\n",
    "        prompt = input(\"You add some products, do you want more? yes or no?\")\n",
    "        \n",
    "    return customer_orders"
   ]
  },
  {
   "cell_type": "code",
   "execution_count": 3,
   "id": "b2ad8ec0-0468-47aa-a4f9-9c4774bbf9b4",
   "metadata": {},
   "outputs": [],
   "source": [
    "def update_inventory(customer_orders,inventory):\n",
    "    for product in customer_orders:\n",
    "        inventory[product] -= 1"
   ]
  },
  {
   "cell_type": "code",
   "execution_count": 4,
   "id": "e62a1d38-d947-4989-b056-c83ed7b5d06e",
   "metadata": {},
   "outputs": [],
   "source": [
    "def calculate_order_statistics(customer_orders, products):\n",
    "    total_ordered = len(customer_orders)\n",
    "    porcentage = (len(customer_orders)/len(products))*100\n",
    "    status = (total_ordered , porcentage)\n",
    "    return status"
   ]
  },
  {
   "cell_type": "code",
   "execution_count": 5,
   "id": "03414ed9-c874-425e-bb0a-0101533e0556",
   "metadata": {},
   "outputs": [],
   "source": [
    "def print_order_statistics(order_statistics):\n",
    "    print(f\"The total ordered products are {order_statistics}\")"
   ]
  },
  {
   "cell_type": "code",
   "execution_count": 6,
   "id": "170c113a-b086-4c4d-a4d9-5aa961c5b422",
   "metadata": {},
   "outputs": [],
   "source": [
    "def print_updated_inventory(inventory):\n",
    "    # Substracts the item selected in the list\n",
    "    for product in customer_orders:\n",
    "        inventory[product] -= 1"
   ]
  },
  {
   "cell_type": "code",
   "execution_count": 10,
   "id": "e014cda0-9109-4988-adbe-1d146802c093",
   "metadata": {},
   "outputs": [
    {
     "name": "stdin",
     "output_type": "stream",
     "text": [
      "Enter the available t-shirt for each product 10\n",
      "Enter the available mug for each product 20\n",
      "Enter the available hat for each product 30\n",
      "Enter the available book for each product 40\n",
      "Enter the available keychain for each product 50\n"
     ]
    },
    {
     "name": "stdout",
     "output_type": "stream",
     "text": [
      "{'t-shirt': 10, 'mug': 20, 'hat': 30, 'book': 40, 'keychain': 50}\n"
     ]
    },
    {
     "name": "stdin",
     "output_type": "stream",
     "text": [
      "Please enter the names of the products you want, type t-shirt, mug, hat, book, keychain:  mug\n",
      "You add some products, do you want more? yes or no? yes\n",
      "Please enter the names of the products you want, type t-shirt, mug, hat, book, keychain:  hat\n",
      "You add some products, do you want more? yes or no? yes\n",
      "Please enter the names of the products you want, type t-shirt, mug, hat, book, keychain:  book\n",
      "You add some products, do you want more? yes or no? no\n"
     ]
    },
    {
     "name": "stdout",
     "output_type": "stream",
     "text": [
      "The orders are:  {'hat', 'mug', 'book'}\n",
      "The updated inventory is:  {'t-shirt': 10, 'mug': 19, 'hat': 29, 'book': 39, 'keychain': 50}\n",
      "(3, 60.0)\n",
      "The total ordered products are (3, 60.0)\n",
      "The final inventory is:  {'t-shirt': 10, 'mug': 18, 'hat': 28, 'book': 38, 'keychain': 50}\n"
     ]
    }
   ],
   "source": [
    "inventory = initialize_inventory(products)\n",
    "print(inventory)\n",
    "\n",
    "customer_orders = get_customer_orders()\n",
    "print((\"The orders are: \"), customer_orders)\n",
    "\n",
    "update_inventory(customer_orders, inventory)\n",
    "print(\"The updated inventory is: \", inventory)\n",
    "\n",
    "order_statistics = calculate_order_statistics(customer_orders, products)\n",
    "print(order_statistics)\n",
    "\n",
    "print_order_statistics(order_statistics)\n",
    "\n",
    "print_updated_inventory(inventory)\n",
    "print(\"The final inventory is: \", inventory)"
   ]
  },
  {
   "cell_type": "code",
   "execution_count": null,
   "id": "c207d966-74c8-47ad-86e6-3882e9452554",
   "metadata": {},
   "outputs": [],
   "source": []
  }
 ],
 "metadata": {
  "kernelspec": {
   "display_name": "Python 3 (ipykernel)",
   "language": "python",
   "name": "python3"
  },
  "language_info": {
   "codemirror_mode": {
    "name": "ipython",
    "version": 3
   },
   "file_extension": ".py",
   "mimetype": "text/x-python",
   "name": "python",
   "nbconvert_exporter": "python",
   "pygments_lexer": "ipython3",
   "version": "3.11.7"
  }
 },
 "nbformat": 4,
 "nbformat_minor": 5
}
